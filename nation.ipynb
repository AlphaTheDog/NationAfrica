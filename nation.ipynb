{
 "cells": [
  {
   "cell_type": "code",
   "execution_count": 21,
   "id": "11647f14-da1b-489f-afee-d648bf758faa",
   "metadata": {},
   "outputs": [],
   "source": [
    "from bs4 import BeautifulSoup\n",
    "import requests\n",
    "import csv\n",
    "from urllib.parse import urljoin"
   ]
  },
  {
   "cell_type": "code",
   "execution_count": 25,
   "id": "a6413e2e-e8a2-4a5c-9947-76f272a701fd",
   "metadata": {},
   "outputs": [],
   "source": [
    "url='https://nation.africa/kenya/news/politics'"
   ]
  },
  {
   "cell_type": "code",
   "execution_count": 16,
   "id": "3db4db22-1ec1-4dec-8dfe-453494e425a3",
   "metadata": {},
   "outputs": [],
   "source": [
    "headers = {\n",
    "    \"User-Agent\":\"Chrome/114.0.0.0 Safari/537.36\",\n",
    "    \"Referer\": \"https://nation.africa/\",\n",
    "    \"Connection\": \"keep-alive\",\n",
    "    \"Upgrade-Insecure-Requests\": \"1\",\n",
    "    \"DNT\": \"1\",  # Do Not Track\n",
    "}\n",
    "\n",
    "driver=requests.get(url,headers=headers)"
   ]
  },
  {
   "cell_type": "code",
   "execution_count": 17,
   "id": "a3bd632e-80ee-4196-b22b-3145c4b3a48c",
   "metadata": {},
   "outputs": [],
   "source": [
    "soup=BeautifulSoup(driver.content,'html.parser')"
   ]
  },
  {
   "cell_type": "code",
   "execution_count": 20,
   "id": "6d12dc9d-d5cc-43b6-a7a1-f43aa0df964d",
   "metadata": {},
   "outputs": [
    {
     "data": {
      "text/plain": [
       "29"
      ]
     },
     "execution_count": 20,
     "metadata": {},
     "output_type": "execute_result"
    }
   ],
   "source": [
    "article=soup.find('ol','article-collection')\n",
    "news=article.find_all('li')\n",
    "len(news)"
   ]
  },
  {
   "cell_type": "code",
   "execution_count": 22,
   "id": "38069d6f-62f0-45a4-a297-123de139d968",
   "metadata": {},
   "outputs": [],
   "source": [
    "baseurl='https://nation.africa/'\n",
    "data=list()\n",
    "for new in news:\n",
    "    link=new.find('a')['href']\n",
    "    rel_url=urljoin(baseurl,link)\n",
    "    title=new.find('h3','teaser-image-right_title title-small').text.strip()\n",
    "    if \"PREMIUM\" in title:\n",
    "        title=title[10:].strip()\n",
    "    text=new.find('p','teaser-image-right_paragraph text-block').text.strip()\n",
    "    metadata=new.find('aside','article-metadata')\n",
    "    date=metadata.find('span','date').text.strip()\n",
    "    category=metadata.find('span','article-topic article-metadata_topic').text.strip()\n",
    "    data.append(\n",
    "        {\n",
    "            'title':title,\n",
    "            'date':date,\n",
    "            'category':category,\n",
    "            'link':rel_url,\n",
    "            'text':text\n",
    "        }\n",
    "    )\n"
   ]
  },
  {
   "cell_type": "code",
   "execution_count": 23,
   "id": "fb2788db-207a-47d1-a6d0-a96ca1dc6601",
   "metadata": {},
   "outputs": [],
   "source": [
    "file='politics.csv'\n",
    "import csv\n",
    "with open(file,'w',newline='') as obj:\n",
    "    writer=csv.DictWriter(obj,fieldnames=['title','date','category','link','text'])\n",
    "    writer.writeheader()\n",
    "    writer.writerows(data)"
   ]
  },
  {
   "cell_type": "code",
   "execution_count": 24,
   "id": "f261c783-fd9b-432b-8907-06612d5f0c60",
   "metadata": {},
   "outputs": [],
   "source": [
    "driver.close()"
   ]
  },
  {
   "cell_type": "code",
   "execution_count": null,
   "id": "400086c1-b312-411e-bec3-1b4efb2eb1f2",
   "metadata": {},
   "outputs": [],
   "source": []
  }
 ],
 "metadata": {
  "kernelspec": {
   "display_name": "Python 3 (ipykernel)",
   "language": "python",
   "name": "python3"
  },
  "language_info": {
   "codemirror_mode": {
    "name": "ipython",
    "version": 3
   },
   "file_extension": ".py",
   "mimetype": "text/x-python",
   "name": "python",
   "nbconvert_exporter": "python",
   "pygments_lexer": "ipython3",
   "version": "3.13.5"
  }
 },
 "nbformat": 4,
 "nbformat_minor": 5
}
